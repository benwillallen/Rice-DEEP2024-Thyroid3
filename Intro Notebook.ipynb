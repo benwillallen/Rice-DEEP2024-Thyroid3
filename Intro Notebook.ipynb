{
  "cells": [
    {
      "cell_type": "markdown",
      "id": "329ebe07",
      "metadata": {
        "id": "329ebe07"
      },
      "source": [
        "Test"
      ]
    },
    {
      "cell_type": "markdown",
      "source": [
        "More text"
      ],
      "metadata": {
        "id": "xhk4uPIH55Qh"
      },
      "id": "xhk4uPIH55Qh"
    }
  ],
  "metadata": {
    "kernelspec": {
      "display_name": "Python 3 (ipykernel)",
      "language": "python",
      "name": "python3"
    },
    "language_info": {
      "codemirror_mode": {
        "name": "ipython",
        "version": 3
      },
      "file_extension": ".py",
      "mimetype": "text/x-python",
      "name": "python",
      "nbconvert_exporter": "python",
      "pygments_lexer": "ipython3",
      "version": "3.9.7"
    },
    "colab": {
      "provenance": []
    }
  },
  "nbformat": 4,
  "nbformat_minor": 5
}